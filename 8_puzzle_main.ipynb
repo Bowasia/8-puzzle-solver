{
  "nbformat": 4,
  "nbformat_minor": 0,
  "metadata": {
    "colab": {
      "name": "8-puzzle-main.ipynb",
      "provenance": [],
      "include_colab_link": true
    },
    "kernelspec": {
      "name": "python3",
      "display_name": "Python 3"
    },
    "language_info": {
      "name": "python"
    }
  },
  "cells": [
    {
      "cell_type": "markdown",
      "metadata": {
        "id": "view-in-github",
        "colab_type": "text"
      },
      "source": [
        "<a href=\"https://colab.research.google.com/github/Bowasia/8-puzzle-solver/blob/main/8_puzzle_main.ipynb\" target=\"_parent\"><img src=\"https://colab.research.google.com/assets/colab-badge.svg\" alt=\"Open In Colab\"/></a>"
      ]
    },
    {
      "cell_type": "code",
      "metadata": {
        "id": "QJg4JCpp6XCe"
      },
      "source": [
        "def shuffle():\n",
        "  \"\"\"\n",
        "  If possible, generate initial condition\n",
        "  \"\"\"\n",
        "  pass\n",
        "\n",
        "#Project begins here#\n",
        "\n",
        "import random\n",
        "\n",
        "def solve():\n",
        "  \"\"\"\n",
        "  execute function\n",
        "  input = \"024163587\"\n",
        "    |\n",
        "    v\n",
        "  0 2 4\n",
        "  1 6 3\n",
        "  5 8 7\n",
        "  where 0 represent blank space\n",
        "\n",
        "  output <- should tell the user how to move the puzzle\n",
        "  so, It might be in this form\n",
        "\n",
        "  Step 1: LEFT\n",
        "  2 0 4\n",
        "  1 6 3\n",
        "  5 8 7\n",
        "    |\n",
        "  Step 2: UP\n",
        "  2 6 4\n",
        "  1 0 3\n",
        "  5 8 7\n",
        "  \"\"\"\n",
        "  pass\n",
        "\n",
        "def findIndx(puzzle,num):\n",
        "  \"\"\" Find index of 0 i x j \"\"\"\n",
        "  index = puzzle.find(num)\n",
        "  i = index // 3\n",
        "  j = index - i * 3\n",
        "  #print(\"i = \" , i , \" j = \" ,j)\n",
        "  return i,j\n",
        "\n",
        "def possible_dir(puzzle): # DONE!!!\n",
        "  \"\"\"\n",
        "  input = \"024163587\"\n",
        "  0 2 4\n",
        "  1 6 3\n",
        "  5 8 7\n",
        "  So, possible move according to user\n",
        "  = RIGHT, DOWN \n",
        "  output = [\"RIGHT\",\"DOWN\"]\n",
        "  \"\"\"\n",
        "  i,j = findIndx(puzzle,\"0\") \n",
        "  \n",
        "  # Find possible direction 0 can move\n",
        "  map = [(-1,0),(1,0),(0,-1),(0,1)] # UP DOWN LEFT RIGHT respectively [direction according to the 8 puzzle on the website]\n",
        "  result = []\n",
        "  dir = {\n",
        "      (-1,0) : \"UP\",\n",
        "      (1,0)  : \"DOWN\",\n",
        "      (0,-1) : \"LEFT\",\n",
        "      (0,1)  : \"RIGHT\"\n",
        "  }\n",
        "  \n",
        "  for k in map:\n",
        "    if not ((i+k[0] < 0) or (i+k[0] > 2) or (j+k[1] < 0) or (j+k[1] > 2)):\n",
        "      result.append(dir[k])\n",
        "\n",
        "  return result \n",
        "\n",
        "def gen_state(puzzle, possible_dir):\n",
        "  \"\"\"\n",
        "  input = \"024163587\", [\"RIGHT\", \"DOWN\"]\n",
        "  0 2 4\n",
        "  1 6 3\n",
        "  5 8 7\n",
        "  output = [\"204163587\",\"124063587\"]\n",
        "  \"\"\"\n",
        "  dir = {\n",
        "      \"UP\"    : (-1,0),\n",
        "      \"DOWN\"  : (1,0),\n",
        "      \"LEFT\"  : (0,-1),\n",
        "      \"RIGHT\" : (0,1)\n",
        "  }\n",
        "\n",
        "  # get 0 coordinate\n",
        "  i,j = findIndx(puzzle,\"0\")\n",
        "  \n",
        "  # get possible dir coordinate\n",
        "  move_to = []\n",
        "  for d in possible_dir:\n",
        "    move_to.append((i+dir[d][0],j+dir[d][1]))\n",
        "  #print(move_to)\n",
        "\n",
        "  # generate output\n",
        "  new_puzzle = []\n",
        "  for p in move_to:\n",
        "\n",
        "    # turn string puzzle into list form\n",
        "    puzzle_list = []\n",
        "    for a in puzzle:\n",
        "      puzzle_list.append(a)\n",
        "\n",
        "    # turn coordinates into index\n",
        "    blank_indx = i * 3 + j\n",
        "    dest_indx = p[0] * 3 + p[1]\n",
        "\n",
        "    # swap position of blank space and possible direction\n",
        "    puzzle_list[blank_indx],puzzle_list[dest_indx] = puzzle_list[dest_indx],puzzle_list[blank_indx]\n",
        "    \n",
        "    # turn new puzzle into string form\n",
        "    new_puzzle.append(\"\".join(puzzle_list))\n",
        "  \n",
        "  # check\n",
        "  \"\"\"\n",
        "  print(new_puzzle)\n",
        "  for b in range(len(possible_dir)):\n",
        "    print(\"\\n\" + possible_dir[b])\n",
        "    show_puzzle(new_puzzle[b])\n",
        "  \"\"\"\n",
        "  return new_puzzle\n",
        "\n",
        "def h_score(puzzle,goal):\n",
        "  \"\"\" \n",
        "  different between current and final state \n",
        "  input = \"024163587\",\"123456780\"\n",
        "  0 2 4   1 2 3\n",
        "  1 6 3   4 5 6\n",
        "  5 8 7   7 8 0\n",
        "  output = 7\n",
        "\n",
        "  \"\"\"\n",
        "  h_point = 0\n",
        "\n",
        "  for num in range(len(puzzle)):\n",
        "    i,j = findIndx(puzzle,str(num))\n",
        "    x,y = findIndx(goal,str(num))\n",
        "\n",
        "    h = abs(i-x) + abs(j-y)\n",
        "    h_point += h\n",
        "\n",
        "  return h_point\n",
        "\n",
        "def g_score():\n",
        "  \"\"\"\n",
        "  step accumulate from the beginning until current state\n",
        "  \"\"\"\n",
        "  pass\n",
        "\n",
        "def show_puzzle(puzzle): # DONE!!!\n",
        "  \"\"\" Print puzzle in more understandable way lol \"\"\"\n",
        "  for i in range(0,9,3):\n",
        "    print(puzzle[i] + \" \" + puzzle[i+1] + \" \" + puzzle[i+2])\n",
        "\n",
        "\n"
      ],
      "execution_count": 18,
      "outputs": []
    },
    {
      "cell_type": "code",
      "metadata": {
        "id": "P8gQHHYT8NwC",
        "colab": {
          "base_uri": "https://localhost:8080/"
        },
        "outputId": "d97bf403-9a80-4f06-c2dd-4291663240a8"
      },
      "source": [
        "\n",
        "a = [\"0\", \"1\", \"2\", \"3\", \"4\", \"5\", \"6\", \"7\", \"8\"]\n",
        "random.shuffle(a)\n",
        "puzzle = \"\".join(a)\n",
        "#print(puzzle)\n",
        "goal = \"123456780\"\n",
        "def checkPosDir(puzzle):\n",
        "  show_puzzle(puzzle)\n",
        "  print(possible_dir(puzzle))\n",
        "\n",
        "checkPosDir(puzzle)\n",
        "gen_state(puzzle,possible_dir(puzzle))\n",
        "\n",
        "h_score(puzzle,goal)\n",
        "\n",
        "\n"
      ],
      "execution_count": 21,
      "outputs": [
        {
          "output_type": "stream",
          "name": "stdout",
          "text": [
            "4 5 2\n",
            "1 6 0\n",
            "7 3 8\n",
            "['UP', 'DOWN', 'LEFT']\n"
          ]
        },
        {
          "output_type": "execute_result",
          "data": {
            "text/plain": [
              "10"
            ]
          },
          "metadata": {},
          "execution_count": 21
        }
      ]
    },
    {
      "cell_type": "code",
      "metadata": {
        "id": "4OPhjIuW8Vy7"
      },
      "source": [
        ""
      ],
      "execution_count": null,
      "outputs": []
    }
  ]
}