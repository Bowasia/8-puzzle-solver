{
  "nbformat": 4,
  "nbformat_minor": 0,
  "metadata": {
    "colab": {
      "name": "8-puzzle-main.ipynb",
      "provenance": [],
      "include_colab_link": true
    },
    "kernelspec": {
      "name": "python3",
      "display_name": "Python 3"
    },
    "language_info": {
      "name": "python"
    }
  },
  "cells": [
    {
      "cell_type": "markdown",
      "metadata": {
        "id": "view-in-github",
        "colab_type": "text"
      },
      "source": [
        "<a href=\"https://colab.research.google.com/github/Bowasia/8-puzzle-solver/blob/main/8_puzzle_main.ipynb\" target=\"_parent\"><img src=\"https://colab.research.google.com/assets/colab-badge.svg\" alt=\"Open In Colab\"/></a>"
      ]
    },
    {
      "cell_type": "code",
      "metadata": {
        "id": "QJg4JCpp6XCe"
      },
      "source": [
        "def shuffle():\n",
        "  \"\"\"\n",
        "  If possible, generate initial condition\n",
        "  \"\"\"\n",
        "  pass\n",
        "\n",
        "def possible_dir():\n",
        "  pass\n",
        "\n",
        "def move():\n",
        "  pass\n",
        "\n",
        "def h_score():\n",
        "  \"\"\" \n",
        "  different between current and final state \n",
        "  \"\"\"\n",
        "  pass\n",
        "\n",
        "def g_score():\n",
        "  \"\"\"\n",
        "  step accumulate from the beginning until current state\n",
        "  \"\"\"\n",
        "  pass\n",
        "\n"
      ],
      "execution_count": 2,
      "outputs": []
    },
    {
      "cell_type": "code",
      "metadata": {
        "id": "P8gQHHYT8NwC"
      },
      "source": [
        "\n"
      ],
      "execution_count": null,
      "outputs": []
    },
    {
      "cell_type": "code",
      "metadata": {
        "id": "4OPhjIuW8Vy7"
      },
      "source": [
        ""
      ],
      "execution_count": null,
      "outputs": []
    }
  ]
}