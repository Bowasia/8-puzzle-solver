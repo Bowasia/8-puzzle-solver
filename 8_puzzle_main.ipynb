{
  "nbformat": 4,
  "nbformat_minor": 0,
  "metadata": {
    "colab": {
      "name": "8-puzzle-main.ipynb",
      "provenance": [],
      "include_colab_link": true
    },
    "kernelspec": {
      "name": "python3",
      "display_name": "Python 3"
    },
    "language_info": {
      "name": "python"
    }
  },
  "cells": [
    {
      "cell_type": "markdown",
      "metadata": {
        "id": "view-in-github",
        "colab_type": "text"
      },
      "source": [
        "<a href=\"https://colab.research.google.com/github/Bowasia/8-puzzle-solver/blob/main/8_puzzle_main.ipynb\" target=\"_parent\"><img src=\"https://colab.research.google.com/assets/colab-badge.svg\" alt=\"Open In Colab\"/></a>"
      ]
    },
    {
      "cell_type": "code",
      "metadata": {
        "id": "QJg4JCpp6XCe"
      },
      "source": [
        "def shuffle():\n",
        "  \"\"\"\n",
        "  If possible, generate initial condition\n",
        "  \"\"\"\n",
        "  pass\n",
        "\n",
        "#Project begins here#\n",
        "\n",
        "import random\n",
        "\n",
        "def solve():\n",
        "  \"\"\"\n",
        "  execute function\n",
        "  input = \"024163587\"\n",
        "    |\n",
        "    v\n",
        "  0 2 4\n",
        "  1 6 3\n",
        "  5 8 7\n",
        "  where 0 represent blank space\n",
        "\n",
        "  output <- should tell the user how to move the puzzle\n",
        "  so, It might be in this form\n",
        "\n",
        "  Step 1: LEFT\n",
        "  2 0 4\n",
        "  1 6 3\n",
        "  5 8 7\n",
        "    |\n",
        "  Step 2: UP\n",
        "  2 6 4\n",
        "  1 0 3\n",
        "  5 8 7\n",
        "  \"\"\"\n",
        "  pass\n",
        "\n",
        "def possible_dir(puzzle): # DONE!!!\n",
        "  \"\"\"\n",
        "  input = \"024163587\"\n",
        "  0 2 4\n",
        "  1 6 3\n",
        "  5 8 7\n",
        "  So, possible move according to user\n",
        "  = RIGHT, DOWN \n",
        "  output = [\"RIGHT\",\"DOWN\"]\n",
        "  \"\"\"\n",
        "\n",
        "  # Find index of 0 i x j\n",
        "  index = puzzle.find(\"0\")\n",
        "  i = index // 3\n",
        "  j = index - i * 3\n",
        "  print(\"i = \" , i , \" j = \" ,j)\n",
        "\n",
        "  # Find possible direction 0 can move\n",
        "  map = [(-1,0),(1,0),(0,-1),(0,1)] # UP DOWN LEFT RIGHT respectively [direction according to the 8 puzzle on the website]\n",
        "  result = []\n",
        "  dir = {\n",
        "      (-1,0) : \"UP\",\n",
        "      (1,0)  : \"DOWN\",\n",
        "      (0,-1) : \"LEFT\",\n",
        "      (0,1)  : \"RIGHT\"\n",
        "  }\n",
        "  \n",
        "  for k in map:\n",
        "    if not ((i+k[0] < 0) or (i+k[0] > 2) or (j+k[1] < 0) or (j+k[1] > 2)):\n",
        "      result.append(dir[k])\n",
        "\n",
        "  return result \n",
        "\n",
        "def gen_state(puzzle, possible_dir):\n",
        "  \"\"\"\n",
        "  input = \"024163587\", [\"RIGHT\", \"DOWN\"]\n",
        "  0 2 4\n",
        "  1 6 3\n",
        "  5 8 7\n",
        "  output = [\"204163587\",\"124063587\"]\n",
        "  \"\"\"\n",
        "  pass\n",
        "\n",
        "def h_score():\n",
        "  \"\"\" \n",
        "  different between current and final state \n",
        "\n",
        "  \"\"\"\n",
        "  pass\n",
        "\n",
        "def g_score():\n",
        "  \"\"\"\n",
        "  step accumulate from the beginning until current state\n",
        "  \"\"\"\n",
        "  pass\n",
        "\n",
        "def show_puzzle(puzzle): # DONE!!!\n",
        "  \"\"\" Print puzzle in more understandable way lol \"\"\"\n",
        "  for i in range(0,9,3):\n",
        "    print(puzzle[i] + \" \" + puzzle[i+1] + \" \" + puzzle[i+2])\n",
        "\n"
      ],
      "execution_count": null,
      "outputs": []
    },
    {
      "cell_type": "code",
      "metadata": {
        "id": "P8gQHHYT8NwC",
        "colab": {
          "base_uri": "https://localhost:8080/"
        },
        "outputId": "cec7a4e9-d93f-4e6c-a468-8cd5c9e53326"
      },
      "source": [
        "\n",
        "\n",
        "\n",
        "a = [\"0\", \"1\", \"2\", \"3\", \"4\", \"5\", \"6\", \"7\", \"8\"]\n",
        "random.shuffle(a)\n",
        "puzzle = \"\".join(a)\n",
        "#print(puzzle)\n",
        "\n",
        "def checkPosDir(puzzle):\n",
        "  show_puzzle(puzzle)\n",
        "  print(possible_dir(puzzle))\n",
        "\n",
        "checkPosDir(puzzle)"
      ],
      "execution_count": 49,
      "outputs": [
        {
          "output_type": "stream",
          "name": "stdout",
          "text": [
            "7 0 3\n",
            "8 2 4\n",
            "1 6 5\n",
            "i =  0  j =  1\n",
            "['DOWN', 'LEFT', 'RIGHT']\n"
          ]
        }
      ]
    },
    {
      "cell_type": "code",
      "metadata": {
        "id": "4OPhjIuW8Vy7"
      },
      "source": [
        ""
      ],
      "execution_count": null,
      "outputs": []
    }
  ]
}